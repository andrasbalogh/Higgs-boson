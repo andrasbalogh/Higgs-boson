{
  "nbformat": 4,
  "nbformat_minor": 0,
  "metadata": {
    "colab": {
      "provenance": [],
      "gpuType": "T4"
    },
    "kernelspec": {
      "name": "python3",
      "display_name": "Python 3"
    },
    "language_info": {
      "name": "python"
    },
    "accelerator": "GPU"
  },
  "cells": [
    {
      "cell_type": "code",
      "source": [
        "# Higgs-boson simulation using CUDA\n",
        "# Edit -> Notebook settings -> T4 GPU must be enabled\n",
        "\n",
        "# For more information see Higgs-Boson-elsevier-9.pdf\n",
        "\n",
        "# setup required library CuPy to work on the GPU\n",
        "import locale\n",
        "locale.getpreferredencoding = lambda: \"UTF-8\"\n",
        "\n",
        "##!pip uninstall cupy-cuda12x\n",
        "\n",
        "!pip install cupy-cuda12x --quiet # cupy is the library that works on GPUs\n",
        "!pip install alive_progress --quiet\n",
        "!pip install pyevtk --quiet"
      ],
      "metadata": {
        "id": "rUwUQtT4GZym",
        "colab": {
          "base_uri": "https://localhost:8080/"
        },
        "outputId": "1bb85587-7c46-42a7-eebb-677498221183"
      },
      "execution_count": null,
      "outputs": [
        {
          "output_type": "stream",
          "name": "stdout",
          "text": [
            "\u001b[2K     \u001b[90m━━━━━━━━━━━━━━━━━━━━━━━━━━━━━━━━━━━━━━━━\u001b[0m \u001b[32m76.0/76.0 kB\u001b[0m \u001b[31m944.8 kB/s\u001b[0m eta \u001b[36m0:00:00\u001b[0m\n",
            "\u001b[2K     \u001b[90m━━━━━━━━━━━━━━━━━━━━━━━━━━━━━━━━━━━━━━━━\u001b[0m \u001b[32m207.3/207.3 kB\u001b[0m \u001b[31m3.4 MB/s\u001b[0m eta \u001b[36m0:00:00\u001b[0m\n",
            "\u001b[?25h  Preparing metadata (setup.py) ... \u001b[?25l\u001b[?25hdone\n",
            "  Building wheel for grapheme (setup.py) ... \u001b[?25l\u001b[?25hdone\n"
          ]
        }
      ]
    },
    {
      "cell_type": "code",
      "source": [
        "# load numerical libraries\n",
        "import numpy as np\n",
        "import cupy as cp\n",
        "import math\n",
        "import matplotlib.pyplot as plt\n",
        "from alive_progress import alive_bar\n",
        "from pyevtk.hl import imageToVTK\n",
        "import glob\n",
        "import os\n",
        "\n",
        "###### Parameters ###################\n",
        "N=301; # number of grid points in space (same uniform in all three directions x,y,z)\n",
        "dx=1.0/(N-1); # Delta x = Delta y = Delta z step size in space\n",
        "dt=0.0001; # step size in time (have to experiment with this)\n",
        "Nt_max=1000; # maximum number of time steps. The more steps the more time it takes!\n",
        "Nt_freq=1000; # saving the solution w(t,x,y,z) at every Nt_freq steps. Never if Nt_freq > Nt_max.\n",
        "E_freq=10; # Lyapunov output frequency Never if E_freq > Nt_max. (this is where V(t) will be used)\n",
        "\n",
        "# see Higgs-Boson-elsevier-9.pdf\n",
        "L = 1.0; # scaling of space (from unit cube to cube with side lengths L)\n",
        "Ldx=L*dx\n",
        "mu_2 = 10000.0; # \\mu^2\n",
        "llambda = 0.1; # lambda\n",
        "# need two initial conditions at t=0:\n",
        "# w(x,y,z,0) called the first initial condition\n",
        "# w_t(x,y,z,0) called the second initial condition\n",
        "N_spikes=1; # number of spikes (bump function) for the initial conditions\n",
        "amps=[1.0, 2.0]; # amplitudes of the spike(s) (heights)\n",
        "# x,y,z coordinates of the center of the spikes inside the !!unit cube!!\n",
        "cx=[0.5, 0.6]; cy=[0.5, 0.6]; cz=[0.5, 0.6];\n",
        "radius2s=[ 0.04, 0.04]; # squared radii of the spikes\n",
        "cdwdt=0.0; # multiplier for initial condition w_t(x,y,z,0) = cdwdt * w(x,y,z,0)\n",
        "\n",
        "w=cp.zeros((N,N,N), dtype=cp.float32); # w_ijk = w[i,j,k] 3-dimensional tensor\n",
        "wt=cp.zeros_like(w) # time derivative w_t\n",
        "\n",
        "# Runge-kutta (45) method needs the following for w and w_t\n",
        "k11=cp.zeros_like(w); k12=cp.zeros_like(w);\n",
        "k21=cp.zeros_like(w); k22=cp.zeros_like(w);\n",
        "k31=cp.zeros_like(w); k32=cp.zeros_like(w);\n",
        "k41=cp.zeros_like(w); k42=cp.zeros_like(w);\n",
        "\n",
        "V=np.zeros(int(Nt_max/E_freq)+1, dtype=np.float32) # Lyapunov function\n",
        "VP=cp.zeros_like(w); # Inside of the integral in the Lyapunov function\n",
        "# the integral of this becomes the Lyapunov function (Pointvise at x,y,z or i,j,k)\n",
        "d_V=np.zeros_like(V) # d_Lyapunov function\n",
        "d_VP=cp.zeros_like(w); # Inside of the integral in the d_Lyapunov function\n",
        "\n",
        "fileList = glob.glob('out*.vti')\n",
        "# Iterate over the list of filepaths & remove each file.\n",
        "for filePath in fileList:\n",
        "  try:\n",
        "    os.remove(filePath)\n",
        "  except:\n",
        "    print(\"Error while deleting file : \", filePath)\n",
        "\n",
        "\n",
        "# These are needed to set up and distribute computation on the GPU\n",
        "# See CUDA grid and block\n",
        "block_size_x, block_size_y, block_size_z = 8,8,8 #tune to your needs\n",
        "gridx = N // block_size_x + 1 * (N % block_size_x != 0)\n",
        "gridy = N // block_size_y + 1 * (N % block_size_y != 0)\n",
        "gridz = N // block_size_z + 1 * (N % block_size_z != 0)\n",
        "grids = (gridx, gridy, gridz)\n",
        "blocks = (block_size_x, block_size_y, block_size_z)\n",
        "\n",
        "# CUDA C++ kernel functions handle tensors (multidimensional arrays) like w[i,j,k]\n",
        "# by flatting them to get one-dimensional array w[i+j*N+k*N*N]\n",
        "\n",
        "# Definition w(x,y,z,0) first initial data as a CUDA-C++ kernel function\n",
        "init_data1 = cp.RawKernel(r'''\n",
        "   extern \"C\" __global__\n",
        "   void init_data1(const int N, float* w, float radius2, float dx, float cx,\n",
        "                   float cy, float cz, float amps){\n",
        "      float xyz; /* R^2 - |x-C|^2 in the denominator */\n",
        "      int i = blockDim.x*blockIdx.x + threadIdx.x;\n",
        "      int j = blockDim.y*blockIdx.y + threadIdx.y;\n",
        "      int k = blockDim.z*blockIdx.z + threadIdx.z;\n",
        "      /* On the boundary the values are zeros */\n",
        "      if((i>1)&&(i<N-3)&&(j>1)&&(j<N-3)&&(k>1)&&(k<N-3)){\n",
        "         /* xyz= R^2 - |x-C|^2 in the denominator */\n",
        "         /* x=i*dx, y=j*dx, z=k*dx */\n",
        "         xyz=radius2-powf(i*dx-cx,2.0)-powf(j*dx-cy,2.0)-powf(k*dx-cz,2.0);\n",
        "         if(xyz>0.0){\n",
        "            w[i+j*N+k*N*N] = w[i+j*N+k*N*N] + amps*exp((xyz-radius2)/(radius2*xyz));\n",
        "         }\n",
        "      }\n",
        "   }\n",
        "     ''', 'init_data1')\n",
        "\n",
        "# Definition w_t(x,y,z,0) = cdwdt * w(x,y,z,0) second initial data as a CUDA-C++ kernel function\n",
        "init_data2 = cp.RawKernel(r'''\n",
        "   extern \"C\" __global__\n",
        "   void init_data2(const int N, float* w, float* wt, float cdwdt){\n",
        "      int i = blockDim.x*blockIdx.x + threadIdx.x;\n",
        "      int j = blockDim.y*blockIdx.y + threadIdx.y;\n",
        "      int k = blockDim.z*blockIdx.z + threadIdx.z;\n",
        "      if((i>1)&&(i<N-3)&&(j>1)&&(j<N-3)&&(k>1)&&(k<N-3)){\n",
        "         wt[i+j*N+k*N*N] =cdwdt * w[i+j*N+k*N*N];\n",
        "      }\n",
        "   }\n",
        "     ''', 'init_data2')\n",
        "\n",
        "\n",
        "# evaluate right-hand side function for the Runge-Kutta method\n",
        "# y' = f(t,y) =>  [w, w_t] = f(t, w, w_t)\n",
        "# [kn1, kn2] = f(t+h,w+ko1*h,wt+ko2*h)\n",
        "eval_f = cp.RawKernel(r'''\n",
        "   extern \"C\" __global__\n",
        "   void eval_f(const int N, float* w, float* wt, float *kn1, float *kn2,\n",
        "       float *ko1, float *ko2, float c1, float c2, float c3, float llambda,\n",
        "       float h){\n",
        "      int i = blockDim.x*blockIdx.x + threadIdx.x;\n",
        "      int j = blockDim.y*blockIdx.y + threadIdx.y;\n",
        "      int k = blockDim.z*blockIdx.z + threadIdx.z;\n",
        "      if((i>1)&&(i<N-3)&&(j>1)&&(j<N-3)&&(k>1)&&(k<N-3)){\n",
        "         kn1[i+j*N+k*N*N]=wt[i+j*N+k*N*N]+h*ko2[i+j*N+k*N*N];\n",
        "         kn2[i+j*N+k*N*N]=c1*(w[i+j*N+k*N*N]+h*ko1[i+j*N+k*N*N])\n",
        "             -llambda*(powf(w[i+j*N+k*N*N]+h*ko1[i+j*N+k*N*N],3.0))\n",
        "             -3.0*(wt[i+j*N+k*N*N]+h*ko2[i+j*N+k*N*N])\n",
        "             +c2*(w[(i+2)+j*N+k*N*N]+w[(i-2)+j*N+k*N*N]+w[i+(j+2)*N+k*N*N]\n",
        "             +w[i+(j-2)*N+k*N*N] + w[i+j*N+(k+2)*N*N] +w[i+j*N+(k-2)*N*N])\n",
        "             +c2*h*(ko1[(i+2)+j*N+k*N*N]+ko1[(i-2)+j*N+k*N*N]\n",
        "             +ko1[i+(j+2)*N+k*N*N] + ko1[i+(j-2)*N+k*N*N]\n",
        "             + ko1[i+j*N+(k+2)*N*N]  +ko1[i+j*N+(k-2)*N*N])\n",
        "             +c3*(w[(i+1)+j*N+k*N*N]+w[(i-1)+j*N+k*N*N]+w[i+(j+1)*N+k*N*N]\n",
        "                +w[i+(j-1)*N+k*N*N]+w[i+j*N+(k+1)*N*N]+w[i+j*N+(k-1)*N*N])\n",
        "             +c3*h*(ko1[(i+1)+j*N+k*N*N]+ko1[(i-1)+j*N+k*N*N]\n",
        "                +ko1[i+(j+1)*N+k*N*N]+ko1[i+(j-1)*N+k*N*N]\n",
        "                +ko1[i+j*N+(k+1)*N*N] +ko1[i+j*N+(k-1)*N*N]);\n",
        "      }\n",
        "   }\n",
        "     ''', 'eval_f')\n",
        "\n",
        "# Runge-Kutta method\n",
        "# advance w = w + (dt/6)*(k11 + 2*k21 + 2*k31 + k41)\n",
        "# advance w_t = w_t + (dt/6)*(k12 + 2*k22 + 2*k32 + k42)\n",
        "# CuPy elementwise kernel function to calculate w, w_t at evey point [i,j,k]\n",
        "advance_rungekutta=cp.ElementwiseKernel( in_params=\"float32 k11,\"\n",
        "      \"float32 k12, float32 k21, float32 k22, float32 k31, float32 k32,\"\n",
        "      \"float32 k41, float32 k42, float32 dt\",\n",
        "    out_params=\"float32 w, float32 wt\",\n",
        "    operation=\"w=w+(k11+2.0*(k21+k31)+k41)*dt/6.0;\"\n",
        "               \"wt=wt+(k12+2.0*(k22+k32)+k42)*dt/6.0;\",\n",
        "                                         no_return=True,\n",
        "                                         name=\"advance_rungekutta\")\n",
        "\n",
        "# Pointwise quantities for the integration of Lyapunov function\n",
        "# Use equations (31)-(34) without the summation\n",
        "pointwise_Lyapunov = cp.RawKernel(r'''\n",
        "   extern \"C\" __global__\n",
        "   void pointwise_Lyapunov(const int N, float* w, float* wt, float* VP,\n",
        "                           float mu_2, float lambda, float t, float dx){\n",
        "      int i = blockDim.x*blockIdx.x + threadIdx.x;\n",
        "      int j = blockDim.y*blockIdx.y + threadIdx.y;\n",
        "      int k = blockDim.z*blockIdx.z + threadIdx.z;\n",
        "      if((i>1)&&(i<N-3)&&(j>1)&&(j<N-3)&&(k>1)&&(k<N-3)){\n",
        "        VP[i+j*N+k*N*N] = mu_2 * powf(w[i+j*N+k*N*N],2.0)\n",
        "            - powf( wt[i+j*N+k*N*N], 2.0)\n",
        "           - (lambda/2.0) * powf(w[i+j*N+k*N*N],4.0)\n",
        "          - exp(-2.0*t) * powf((-w[i+2+j*N+k*N*N]+8.0*w[i+1+j*N+k*N*N]\n",
        "          - 8.0*w[i-1+j*N+k*N*N]+w[i-2+j*N+k*N*N])/(12.0*dx), 2.0)\n",
        "          - exp(-2.0*t) * powf((-w[i+(j+2)*N+k*N*N]+8.0*w[i+(j+1)*N+k*N*N]\n",
        "          - 8.0*w[i+(j-1)*N+k*N*N]+w[i+(j-2)*N+k*N*N])/(12.0*dx), 2.0)\n",
        "          - exp(-2.0*t) * powf((-w[i+j*N+(k+2)*N*N]+8.0*w[i+j*N+(k+1)*N*N]\n",
        "          - 8.0*w[i+j*N+(k-1)*N*N]+w[i+j*N+(k-2)*N*N])/(12.0*dx),2.0 );\n",
        "      }\n",
        "   }\n",
        "''', 'pointwise_Lyapunov')\n",
        "\n",
        "\n",
        "\n",
        "\n",
        "pointwise_d_Lyapunov = cp.RawKernel(r'''\n",
        "   extern \"C\" __global__\n",
        "   void pointwise_d_Lyapunov(const int N, float* w, float* wt, float* d_VP,\n",
        "                            float t, float dx){\n",
        "      int i = blockDim.x*blockIdx.x + threadIdx.x;\n",
        "      int j = blockDim.y*blockIdx.y + threadIdx.y;\n",
        "      int k = blockDim.z*blockIdx.z + threadIdx.z;\n",
        "      if((i>1)&&(i<N-3)&&(j>1)&&(j<N-3)&&(k>1)&&(k<N-3)){\n",
        "        d_VP[i+j*N+k*N*N] = 6*powf( wt[i+j*N+k*N*N], 2.0)+\n",
        "          +2 *exp(-2.0*t) * powf((-w[i+2+j*N+k*N*N]+8.0*w[i+1+j*N+k*N*N]\n",
        "          - 8.0*w[i-1+j*N+k*N*N]+w[i-2+j*N+k*N*N])/(12.0*dx), 2.0)\n",
        "          +2* exp(-2.0*t) * powf((-w[i+(j+2)*N+k*N*N]+8.0*w[i+(j+1)*N+k*N*N]\n",
        "          - 8.0*w[i+(j-1)*N+k*N*N]+w[i+(j-2)*N+k*N*N])/(12.0*dx), 2.0)\n",
        "          +2* exp(-2.0*t) * powf((-w[i+j*N+(k+2)*N*N]+8.0*w[i+j*N+(k+1)*N*N]\n",
        "          - 8.0*w[i+j*N+(k-1)*N*N]+w[i+j*N+(k-2)*N*N])/(12.0*dx),2.0);\n",
        "      }\n",
        "   }\n",
        "''', 'pointwise_d_Lyapunov')\n",
        "\n",
        "\n",
        "##### END OF SETTING UP Subroutines and functions #########\n",
        "\n",
        "# first initial data w(x,y,z,0), set up spikes (bump functions)\n",
        "# by calling the CUDA C++ kernel functions\n",
        "for spike in range(N_spikes):\n",
        "    init_data1(grids, blocks, (N, w, cp.float32(radius2s[spike]),\n",
        "                               cp.float32(dx), cp.float32(cx[spike]),\n",
        "                               cp.float32(cy[spike]), cp.float32(cz[spike]),\n",
        "                               cp.float32(amps[spike])))\n",
        "\n",
        "# second initial data w_t(x,y,z,0)\n",
        "init_data2(grids, blocks, (N, w, wt, cp.float32(cdwdt)))\n",
        "\n",
        "\n",
        "# output solution w if needed\n",
        "if Nt_freq <= Nt_max:\n",
        "  # save w into a vtk file (open with paraview)\n",
        "  imageToVTK(\"out{:03d}\".format(0), pointData = {\"higgs\" : w.get()} )\n",
        "  #print(cp.max(w))\n",
        "\n",
        "# initial at t=0\n",
        "pointwise_Lyapunov(grids, blocks, (N, w, wt, VP, cp.float32(mu_2),\n",
        "                  cp.float32(llambda), cp.float32(0), cp.float32(dx)))\n",
        "V[0]=(Ldx**3)*cp.sum(VP).get()   # get() from GPU to CPU\n",
        "pointwise_d_Lyapunov(grids, blocks, (N, w, wt, d_VP, cp.float32(0.0),\n",
        "                                     cp.float32(dx)))\n",
        "d_V[0]=(Ldx**3)*cp.sum(d_VP).get()   # get() from GPU to CPU\n",
        "\n",
        "print(f\"Starting {Nt_max} time steps, output at every {Nt_freq} step.\")\n",
        "\n",
        "with alive_bar(Nt_max, force_tty=True) as bar: # progress bar\n",
        "  for step in range(1,Nt_max+1):  # number of time steps for Runge-Kutta\n",
        "    # k1 = f(t,y(t))\n",
        "    rt=math.exp(-2.0*step*dt)/(Ldx**2);\n",
        "    c1 = mu_2-7.5*rt; c2 = -rt/12.0; c3=rt*4.0/3.0; dtp2=0.0\n",
        "    eval_f(grids, blocks, (N, w, wt, k11, k12, k11, k12, cp.float32(c1),\n",
        "                           cp.float32(c2), cp.float32(c3),\n",
        "                           cp.float32(llambda), cp.float32(dtp2)))\n",
        "    # k2 = f(t+h/2,y(t)+k1*h/2)\n",
        "    rt=math.exp(-2.0*step*dt-dt)/(L*L*dx*dx);\n",
        "    c1=mu_2-7.5*rt; c2=-rt/12.0; c3=rt*4.0/3.0; dtp2=dt/2.0\n",
        "    eval_f(grids, blocks, (N, w, wt, k21, k22, k11, k12, cp.float32(c1),\n",
        "                           cp.float32(c2), cp.float32(c3),\n",
        "                           cp.float32(llambda), cp.float32(dtp2)))\n",
        "    # k3 = f(t+h/2,y(t)+k2*h/2)\n",
        "    eval_f(grids, blocks, (N, w, wt, k31, k32, k21, k22, cp.float32(c1),\n",
        "                           cp.float32(c2), cp.float32(c3),\n",
        "                           cp.float32(llambda), cp.float32(dtp2)))\n",
        "    # k4 = f(t+h,y(t)+k3*h)\n",
        "    rt=math.exp(-2.0*(step*dt+dt))/(L*L*dx*dx);\n",
        "    c1=mu_2-7.5*rt; c2=-rt/12.0; c3=rt*4.0/3.0; dtp2=dt;\n",
        "    eval_f(grids, blocks, (N, w, wt, k41, k42, k31, k32, cp.float32(c1),\n",
        "                          cp.float32(c2), cp.float32(c3),\n",
        "                          cp.float32(llambda), cp.float32(dtp2)))\n",
        "\n",
        "    #  advance to next time step: y(t+h) = y(t)+(k1+2*k2+2*k3+k4)*h/6\n",
        "    advance_rungekutta(k11, k12, k21, k22, k31, k32, k41, k42, dt, w, wt)\n",
        "\n",
        "    if (math.fmod(step,Nt_freq)==0.0):  # save w to vtk file\n",
        "        imageToVTK(\"out{:03d}\".format(int(step/Nt_freq)), pointData = {\"higgs\" : w.get()} )\n",
        "\n",
        "    if step%E_freq==0: # Lyapunov function\n",
        "      t = step*dt\n",
        "      pointwise_Lyapunov(grids, blocks, (N, w, wt, VP, cp.float32(mu_2),\n",
        "                    cp.float32(llambda), cp.float32(t) , cp.float32(Ldx)))\n",
        "      V[int(step/E_freq)]=(Ldx**3)*(cp.sum(VP)).get()       # save V(t) in a vector\n",
        "      pointwise_d_Lyapunov(grids, blocks, (N, w, wt, d_VP, cp.float32(t),\n",
        "                                           cp.float32(Ldx)))\n",
        "      d_V[int(step/E_freq)]=(Ldx**3)*(cp.sum(d_VP)).get()\n",
        "    bar()\n",
        "\n",
        "##### Plot results ############\n",
        "t = np.linspace(0, Nt_max*dt, int(Nt_max/E_freq)+1)\n",
        "plt.plot(t, V, 'k', t, d_V, 'k:')\n",
        "plt.grid()\n",
        "plt.xlabel(\"time t\")\n",
        "#plt.ylabel(\"Lyapunov function\")\n",
        "plt.legend([\"V(t)\", \"dV(t)/dt\"])"
      ],
      "metadata": {
        "id": "dShV1SHymp3w",
        "colab": {
          "base_uri": "https://localhost:8080/",
          "height": 519
        },
        "outputId": "3d0e2695-07db-4936-b880-dd0a55c3e321"
      },
      "execution_count": null,
      "outputs": [
        {
          "output_type": "stream",
          "name": "stdout",
          "text": [
            "Starting 1000 time steps, output at every 1000 step.\n",
            "|████████████████████████████████████████| 1000/1000 [100%] in 52.4s (19.32/s)  \n"
          ]
        },
        {
          "output_type": "execute_result",
          "data": {
            "text/plain": [
              "<matplotlib.legend.Legend at 0x7a1a52016080>"
            ]
          },
          "metadata": {},
          "execution_count": 2
        },
        {
          "output_type": "display_data",
          "data": {
            "text/plain": [
              "<Figure size 640x480 with 1 Axes>"
            ],
            "image/png": "[encoded data removed]"
          },
          "metadata": {}
        }
      ]
    },
    {
      "cell_type": "code",
      "source": [
        "print(V)"
      ],
      "metadata": {
        "id": "QiD7JvUkjyjj",
        "outputId": "b563bbff-ad9d-40d4-f8c3-6293fdeddfa7",
        "colab": {
          "base_uri": "https://localhost:8080/"
        }
      },
      "execution_count": null,
      "outputs": [
        {
          "output_type": "stream",
          "name": "stdout",
          "text": [
            "[9.31894481e-01 9.55809653e-01 1.18693554e+00 2.73413610e+00\n",
            " 1.25736341e+01 7.52579651e+01 4.75606018e+02 2.95381006e+03\n",
            " 1.55901104e+04 5.17645625e+04 1.15986328e+05 2.19835094e+05\n",
            " 3.67509500e+05 5.67249562e+05 8.30218938e+05 1.16308650e+06\n",
            " 1.57566925e+06 2.07206450e+06 2.66210250e+06 3.35394750e+06\n",
            " 4.15481350e+06 5.07306000e+06 6.11363500e+06 7.28775750e+06\n",
            " 8.59879600e+06 1.00604660e+07 1.16752130e+07 1.34556290e+07\n",
            " 1.54249090e+07 1.76045580e+07 1.99922240e+07 2.25346560e+07\n",
            " 2.54445340e+07 2.83084620e+07 3.11770900e+07 3.42062560e+07\n",
            " 3.71592480e+07 4.06150640e+07 4.39956560e+07 4.76413120e+07\n",
            " 5.17450000e+07 5.57675920e+07 6.01168440e+07 6.48925560e+07\n",
            " 6.91249200e+07 7.37689760e+07 7.83642320e+07 8.32996480e+07\n",
            " 8.86534080e+07 9.45438720e+07 1.00037008e+08 1.05889728e+08\n",
            " 1.12093864e+08 1.17172280e+08 1.22380520e+08 1.27155392e+08\n",
            " 1.32700184e+08 1.38178992e+08 1.43910384e+08 1.49310224e+08\n",
            " 1.55542064e+08 1.62950784e+08 1.68271744e+08 1.74266016e+08\n",
            " 1.79777872e+08 1.84723088e+08 1.90578384e+08 1.97234864e+08\n",
            " 2.02942160e+08 2.08092544e+08 2.13773632e+08 2.19779984e+08\n",
            " 2.25113904e+08 2.31463472e+08 2.35412912e+08 2.40562080e+08\n",
            " 2.45242512e+08 2.51511376e+08 2.55779440e+08 2.60524384e+08\n",
            " 2.65818064e+08 2.69531264e+08 2.73513856e+08 2.77806272e+08\n",
            " 2.81978048e+08 2.85935264e+08 2.89408896e+08 2.92856800e+08\n",
            " 2.97225536e+08 3.00601312e+08 3.04432736e+08 3.07540000e+08\n",
            " 3.10561440e+08 3.13666208e+08 3.17379488e+08 3.20772800e+08\n",
            " 3.24134080e+08 3.26956480e+08 3.28846240e+08 3.31727936e+08\n",
            " 3.34764448e+08]\n"
          ]
        }
      ]
    },
    {
      "cell_type": "code",
      "source": [
        "from google.colab import files\n",
        "files.download(\"out003.vti\")\n",
        "files.download(\"out002.vti\")\n",
        "files.download(\"out001.vti\")"
      ],
      "metadata": {
        "colab": {
          "base_uri": "https://localhost:8080/",
          "height": 17
        },
        "id": "dPRpleWWdOMk",
        "outputId": "d6b4d1a9-d9d5-4081-830d-0007bf065cab"
      },
      "execution_count": null,
      "outputs": [
        {
          "output_type": "display_data",
          "data": {
            "text/plain": [
              "<IPython.core.display.Javascript object>"
            ],
            "application/javascript": [
              "\n",
              "    async function download(id, filename, size) {\n",
              "      if (!google.colab.kernel.accessAllowed) {\n",
              "        return;\n",
              "      }\n",
              "      const div = document.createElement('div');\n",
              "      const label = document.createElement('label');\n",
              "      label.textContent = `Downloading \"${filename}\": `;\n",
              "      div.appendChild(label);\n",
              "      const progress = document.createElement('progress');\n",
              "      progress.max = size;\n",
              "      div.appendChild(progress);\n",
              "      document.body.appendChild(div);\n",
              "\n",
              "      const buffers = [];\n",
              "      let downloaded = 0;\n",
              "\n",
              "      const channel = await google.colab.kernel.comms.open(id);\n",
              "      // Send a message to notify the kernel that we're ready.\n",
              "      channel.send({})\n",
              "\n",
              "      for await (const message of channel.messages) {\n",
              "        // Send a message to notify the kernel that we're ready.\n",
              "        channel.send({})\n",
              "        if (message.buffers) {\n",
              "          for (const buffer of message.buffers) {\n",
              "            buffers.push(buffer);\n",
              "            downloaded += buffer.byteLength;\n",
              "            progress.value = downloaded;\n",
              "          }\n",
              "        }\n",
              "      }\n",
              "      const blob = new Blob(buffers, {type: 'application/binary'});\n",
              "      const a = document.createElement('a');\n",
              "      a.href = window.URL.createObjectURL(blob);\n",
              "      a.download = filename;\n",
              "      div.appendChild(a);\n",
              "      a.click();\n",
              "      div.remove();\n",
              "    }\n",
              "  "
            ]
          },
          "metadata": {}
        },
        {
          "output_type": "display_data",
          "data": {
            "text/plain": [
              "<IPython.core.display.Javascript object>"
            ],
            "application/javascript": [
              "download(\"download_7aa2ef69-520b-49c5-b589-69fff6f0725c\", \"out003.vti\", 32482860)"
            ]
          },
          "metadata": {}
        },
        {
          "output_type": "display_data",
          "data": {
            "text/plain": [
              "<IPython.core.display.Javascript object>"
            ],
            "application/javascript": [
              "\n",
              "    async function download(id, filename, size) {\n",
              "      if (!google.colab.kernel.accessAllowed) {\n",
              "        return;\n",
              "      }\n",
              "      const div = document.createElement('div');\n",
              "      const label = document.createElement('label');\n",
              "      label.textContent = `Downloading \"${filename}\": `;\n",
              "      div.appendChild(label);\n",
              "      const progress = document.createElement('progress');\n",
              "      progress.max = size;\n",
              "      div.appendChild(progress);\n",
              "      document.body.appendChild(div);\n",
              "\n",
              "      const buffers = [];\n",
              "      let downloaded = 0;\n",
              "\n",
              "      const channel = await google.colab.kernel.comms.open(id);\n",
              "      // Send a message to notify the kernel that we're ready.\n",
              "      channel.send({})\n",
              "\n",
              "      for await (const message of channel.messages) {\n",
              "        // Send a message to notify the kernel that we're ready.\n",
              "        channel.send({})\n",
              "        if (message.buffers) {\n",
              "          for (const buffer of message.buffers) {\n",
              "            buffers.push(buffer);\n",
              "            downloaded += buffer.byteLength;\n",
              "            progress.value = downloaded;\n",
              "          }\n",
              "        }\n",
              "      }\n",
              "      const blob = new Blob(buffers, {type: 'application/binary'});\n",
              "      const a = document.createElement('a');\n",
              "      a.href = window.URL.createObjectURL(blob);\n",
              "      a.download = filename;\n",
              "      div.appendChild(a);\n",
              "      a.click();\n",
              "      div.remove();\n",
              "    }\n",
              "  "
            ]
          },
          "metadata": {}
        },
        {
          "output_type": "display_data",
          "data": {
            "text/plain": [
              "<IPython.core.display.Javascript object>"
            ],
            "application/javascript": [
              "download(\"download_ec13b150-adce-463b-92bd-bd363e0bb3ae\", \"out002.vti\", 32482860)"
            ]
          },
          "metadata": {}
        },
        {
          "output_type": "display_data",
          "data": {
            "text/plain": [
              "<IPython.core.display.Javascript object>"
            ],
            "application/javascript": [
              "\n",
              "    async function download(id, filename, size) {\n",
              "      if (!google.colab.kernel.accessAllowed) {\n",
              "        return;\n",
              "      }\n",
              "      const div = document.createElement('div');\n",
              "      const label = document.createElement('label');\n",
              "      label.textContent = `Downloading \"${filename}\": `;\n",
              "      div.appendChild(label);\n",
              "      const progress = document.createElement('progress');\n",
              "      progress.max = size;\n",
              "      div.appendChild(progress);\n",
              "      document.body.appendChild(div);\n",
              "\n",
              "      const buffers = [];\n",
              "      let downloaded = 0;\n",
              "\n",
              "      const channel = await google.colab.kernel.comms.open(id);\n",
              "      // Send a message to notify the kernel that we're ready.\n",
              "      channel.send({})\n",
              "\n",
              "      for await (const message of channel.messages) {\n",
              "        // Send a message to notify the kernel that we're ready.\n",
              "        channel.send({})\n",
              "        if (message.buffers) {\n",
              "          for (const buffer of message.buffers) {\n",
              "            buffers.push(buffer);\n",
              "            downloaded += buffer.byteLength;\n",
              "            progress.value = downloaded;\n",
              "          }\n",
              "        }\n",
              "      }\n",
              "      const blob = new Blob(buffers, {type: 'application/binary'});\n",
              "      const a = document.createElement('a');\n",
              "      a.href = window.URL.createObjectURL(blob);\n",
              "      a.download = filename;\n",
              "      div.appendChild(a);\n",
              "      a.click();\n",
              "      div.remove();\n",
              "    }\n",
              "  "
            ]
          },
          "metadata": {}
        },
        {
          "output_type": "display_data",
          "data": {
            "text/plain": [
              "<IPython.core.display.Javascript object>"
            ],
            "application/javascript": [
              "download(\"download_0cb18262-9e5b-4c50-b2fc-68dc19e1c654\", \"out001.vti\", 32482860)"
            ]
          },
          "metadata": {}
        }
      ]
    },
    {
      "cell_type": "code",
      "source": [
        "#print(w.diagonal(0,1,2).diagonal().shape)\n",
        "plt.plot(w.diagonal(0,1,2).diagonal().get())\n",
        "#a = np.arange(8).reshape(2,2,2);\n",
        "#print(a)\n",
        "#a.diagonal(0,1,2).diagonal()"
      ],
      "metadata": {
        "colab": {
          "base_uri": "https://localhost:8080/",
          "height": 448
        },
        "id": "2vGIFYPb1h6m",
        "outputId": "618291c1-1100-4659-d78e-08fce751807c"
      },
      "execution_count": null,
      "outputs": [
        {
          "output_type": "execute_result",
          "data": {
            "text/plain": [
              "[<matplotlib.lines.Line2D at 0x7f196cdf99c0>]"
            ]
          },
          "metadata": {},
          "execution_count": 20
        },
        {
          "output_type": "display_data",
          "data": {
            "text/plain": [
              "<Figure size 640x480 with 1 Axes>"
            ],
            "image/png": "[encoded data removed]"
          },
          "metadata": {}
        }
      ]
    }
  ]
}